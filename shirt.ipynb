{
  "nbformat": 4,
  "nbformat_minor": 0,
  "metadata": {
    "colab": {
      "name": "Copy of NavyVesselDetection.ipynb",
      "provenance": [],
      "collapsed_sections": []
    },
    "kernelspec": {
      "name": "python3",
      "display_name": "Python 3"
    },
    "language_info": {
      "name": "python"
    }
  },
  "cells": [
    {
      "cell_type": "code",
      "metadata": {
        "id": "X5iHeBGhsThv"
      },
      "source": [
        "import os\n",
        "import zipfile\n",
        "import random\n",
        "import shutil\n",
        "import tensorflow as tf\n",
        "from tensorflow.keras.optimizers import RMSprop\n",
        "from tensorflow.keras.preprocessing.image import ImageDataGenerator\n",
        "from shutil import copyfile\n",
        "from os import getcwd\n",
        "from os import listdir\n",
        "import cv2\n",
        "from tensorflow.keras.layers import Conv2D, Input, ZeroPadding2D, BatchNormalization, Activation, MaxPooling2D, Flatten, Dense\n",
        "from tensorflow.keras.models import Model, load_model\n",
        "from tensorflow.keras.callbacks import TensorBoard, ModelCheckpoint\n",
        "from sklearn.model_selection import train_test_split\n",
        "from sklearn.metrics import f1_score\n",
        "from sklearn.utils import shuffle\n",
        "import imutils\n",
        "import numpy as np\n",
        "import matplotlib.pyplot as plt\n",
        "import matplotlib.image  as mpimg"
      ],
      "execution_count": 1,
      "outputs": []
    },
    {
      "cell_type": "code",
      "metadata": {
        "id": "wEoyDwO-skL8",
        "colab": {
          "base_uri": "https://localhost:8080/"
        },
        "outputId": "a4d6d01b-cd3b-416b-b09a-ee51bc605e7b"
      },
      "source": [
        "from google.colab import drive\n",
        "drive.mount('/content/drive')"
      ],
      "execution_count": 2,
      "outputs": [
        {
          "output_type": "stream",
          "text": [
            "Mounted at /content/drive\n"
          ],
          "name": "stdout"
        }
      ]
    },
    {
      "cell_type": "code",
      "metadata": {
        "id": "POKhvOhqsySV"
      },
      "source": [
        "from zipfile import ZipFile\n",
        "file_name = \"/content/drive/MyDrive/Research/shirts.zip\"\n",
        "\n",
        "with ZipFile(file_name, 'r') as zip:\n",
        "  zip.extractall()"
      ],
      "execution_count": 8,
      "outputs": []
    },
    {
      "cell_type": "code",
      "metadata": {
        "colab": {
          "base_uri": "https://localhost:8080/"
        },
        "id": "frm_qjXxszvq",
        "outputId": "ba082f9b-962b-4b41-d91e-8511e6a5b933"
      },
      "source": [
        "print(len(os.listdir('/content/shirts/white_shirt')))\n",
        "print(len(os.listdir('/content/shirts/black_shirt')))\n"
      ],
      "execution_count": 5,
      "outputs": [
        {
          "output_type": "stream",
          "text": [
            "329\n",
            "337\n"
          ],
          "name": "stdout"
        }
      ]
    },
    {
      "cell_type": "code",
      "metadata": {
        "id": "sr7CvPW0s6fu"
      },
      "source": [
        "try:\n",
        "    os.mkdir('/content/shirt_pre')\n",
        "    os.mkdir('/content/shirt_pre/training')\n",
        "    os.mkdir('/content/shirt_pre/testing')\n",
        "    os.mkdir('/content/shirt_pre/training/white_sh')\n",
        "    os.mkdir('/content/shirt_pre/training/black_sh')\n",
        "    os.mkdir('/content/shirt_pre/testing/white_sh')\n",
        "    os.mkdir('/content/shirt_pre/testing/black_sh')\n",
        "\n",
        "except OSError:\n",
        "    pass"
      ],
      "execution_count": 6,
      "outputs": []
    },
    {
      "cell_type": "code",
      "metadata": {
        "id": "Ju7yRBwftQL_",
        "colab": {
          "base_uri": "https://localhost:8080/",
          "height": 357
        },
        "outputId": "e086b96e-8548-4376-929e-b9de1e64577c"
      },
      "source": [
        "import random\n",
        "from shutil import copyfile\n",
        "def split_data(SOURCE, TRAINING, TESTING, SPLIT_SIZE):\n",
        "    files = []\n",
        "    for filename in os.listdir(SOURCE):\n",
        "        file = SOURCE + filename\n",
        "        if os.path.getsize(file) > 0:\n",
        "            files.append(filename)\n",
        "        else:\n",
        "            print(filename + \" is zero length, so ignoring.\")\n",
        "\n",
        "    training_length = int(len(files) * SPLIT_SIZE)\n",
        "    testing_length = int(len(files) - training_length)\n",
        "    shuffled_set = random.sample(files, len(files))\n",
        "    training_set = shuffled_set[0:training_length]\n",
        "    testing_set = shuffled_set[training_length:]\n",
        "\n",
        "    for filename in training_set:\n",
        "        this_file = SOURCE + filename\n",
        "        destination = TRAINING + filename\n",
        "        copyfile(this_file, destination)\n",
        "\n",
        "    for filename in testing_set:\n",
        "        this_file = SOURCE + filename\n",
        "        destination = TESTING + filename\n",
        "        copyfile(this_file, destination)\n",
        "\n",
        "\n",
        "ENEMYSHIP_SOURCE_DIR = \"/content/shirts/white_shirt\"\n",
        "TRAINING_ENEMYSHIP_DIR = \"/content/shirt_pre/training/white_sh\"\n",
        "TESTING_ENEMYSHIP_DIR = \"/content/shirt_pre/testing/white_sh\"\n",
        "NOSHIP_SOURCE_DIR = \"/content/shirts/black_shirt\"\n",
        "TRAINING_NOSHIP_DIR = \"/content/shirt_pre/training/black_sh\"\n",
        "TESTING_NOSHIP_DIR = \"/content/shirt_pre/testing/black_sh\"\n",
        "\n",
        "split_size = 0.9\n",
        "split_data(ENEMYSHIP_SOURCE_DIR,TRAINING_ENEMYSHIP_DIR,TESTING_ENEMYSHIP_DIR, split_size)\n",
        "split_data(NOSHIP_SOURCE_DIR, TRAINING_NOSHIP_DIR ,TESTING_NOSHIP_DIR , split_size)"
      ],
      "execution_count": 13,
      "outputs": [
        {
          "output_type": "error",
          "ename": "FileNotFoundError",
          "evalue": "ignored",
          "traceback": [
            "\u001b[0;31m---------------------------------------------------------------------------\u001b[0m",
            "\u001b[0;31mFileNotFoundError\u001b[0m                         Traceback (most recent call last)",
            "\u001b[0;32m<ipython-input-13-e37b4468115a>\u001b[0m in \u001b[0;36m<module>\u001b[0;34m()\u001b[0m\n\u001b[1;32m     35\u001b[0m \u001b[0;34m\u001b[0m\u001b[0m\n\u001b[1;32m     36\u001b[0m \u001b[0msplit_size\u001b[0m \u001b[0;34m=\u001b[0m \u001b[0;36m0.9\u001b[0m\u001b[0;34m\u001b[0m\u001b[0;34m\u001b[0m\u001b[0m\n\u001b[0;32m---> 37\u001b[0;31m \u001b[0msplit_data\u001b[0m\u001b[0;34m(\u001b[0m\u001b[0mENEMYSHIP_SOURCE_DIR\u001b[0m\u001b[0;34m,\u001b[0m\u001b[0mTRAINING_ENEMYSHIP_DIR\u001b[0m\u001b[0;34m,\u001b[0m\u001b[0mTESTING_ENEMYSHIP_DIR\u001b[0m\u001b[0;34m,\u001b[0m \u001b[0msplit_size\u001b[0m\u001b[0;34m)\u001b[0m\u001b[0;34m\u001b[0m\u001b[0;34m\u001b[0m\u001b[0m\n\u001b[0m\u001b[1;32m     38\u001b[0m \u001b[0msplit_data\u001b[0m\u001b[0;34m(\u001b[0m\u001b[0mNOSHIP_SOURCE_DIR\u001b[0m\u001b[0;34m,\u001b[0m \u001b[0mTRAINING_NOSHIP_DIR\u001b[0m \u001b[0;34m,\u001b[0m\u001b[0mTESTING_NOSHIP_DIR\u001b[0m \u001b[0;34m,\u001b[0m \u001b[0msplit_size\u001b[0m\u001b[0;34m)\u001b[0m\u001b[0;34m\u001b[0m\u001b[0;34m\u001b[0m\u001b[0m\n",
            "\u001b[0;32m<ipython-input-13-e37b4468115a>\u001b[0m in \u001b[0;36msplit_data\u001b[0;34m(SOURCE, TRAINING, TESTING, SPLIT_SIZE)\u001b[0m\n\u001b[1;32m      5\u001b[0m     \u001b[0;32mfor\u001b[0m \u001b[0mfilename\u001b[0m \u001b[0;32min\u001b[0m \u001b[0mos\u001b[0m\u001b[0;34m.\u001b[0m\u001b[0mlistdir\u001b[0m\u001b[0;34m(\u001b[0m\u001b[0mSOURCE\u001b[0m\u001b[0;34m)\u001b[0m\u001b[0;34m:\u001b[0m\u001b[0;34m\u001b[0m\u001b[0;34m\u001b[0m\u001b[0m\n\u001b[1;32m      6\u001b[0m         \u001b[0mfile\u001b[0m \u001b[0;34m=\u001b[0m \u001b[0mSOURCE\u001b[0m \u001b[0;34m+\u001b[0m \u001b[0mfilename\u001b[0m\u001b[0;34m\u001b[0m\u001b[0;34m\u001b[0m\u001b[0m\n\u001b[0;32m----> 7\u001b[0;31m         \u001b[0;32mif\u001b[0m \u001b[0mos\u001b[0m\u001b[0;34m.\u001b[0m\u001b[0mpath\u001b[0m\u001b[0;34m.\u001b[0m\u001b[0mgetsize\u001b[0m\u001b[0;34m(\u001b[0m\u001b[0mfile\u001b[0m\u001b[0;34m)\u001b[0m \u001b[0;34m>\u001b[0m \u001b[0;36m0\u001b[0m\u001b[0;34m:\u001b[0m\u001b[0;34m\u001b[0m\u001b[0;34m\u001b[0m\u001b[0m\n\u001b[0m\u001b[1;32m      8\u001b[0m             \u001b[0mfiles\u001b[0m\u001b[0;34m.\u001b[0m\u001b[0mappend\u001b[0m\u001b[0;34m(\u001b[0m\u001b[0mfilename\u001b[0m\u001b[0;34m)\u001b[0m\u001b[0;34m\u001b[0m\u001b[0;34m\u001b[0m\u001b[0m\n\u001b[1;32m      9\u001b[0m         \u001b[0;32melse\u001b[0m\u001b[0;34m:\u001b[0m\u001b[0;34m\u001b[0m\u001b[0;34m\u001b[0m\u001b[0m\n",
            "\u001b[0;32m/usr/lib/python3.7/genericpath.py\u001b[0m in \u001b[0;36mgetsize\u001b[0;34m(filename)\u001b[0m\n\u001b[1;32m     48\u001b[0m \u001b[0;32mdef\u001b[0m \u001b[0mgetsize\u001b[0m\u001b[0;34m(\u001b[0m\u001b[0mfilename\u001b[0m\u001b[0;34m)\u001b[0m\u001b[0;34m:\u001b[0m\u001b[0;34m\u001b[0m\u001b[0;34m\u001b[0m\u001b[0m\n\u001b[1;32m     49\u001b[0m     \u001b[0;34m\"\"\"Return the size of a file, reported by os.stat().\"\"\"\u001b[0m\u001b[0;34m\u001b[0m\u001b[0;34m\u001b[0m\u001b[0m\n\u001b[0;32m---> 50\u001b[0;31m     \u001b[0;32mreturn\u001b[0m \u001b[0mos\u001b[0m\u001b[0;34m.\u001b[0m\u001b[0mstat\u001b[0m\u001b[0;34m(\u001b[0m\u001b[0mfilename\u001b[0m\u001b[0;34m)\u001b[0m\u001b[0;34m.\u001b[0m\u001b[0mst_size\u001b[0m\u001b[0;34m\u001b[0m\u001b[0;34m\u001b[0m\u001b[0m\n\u001b[0m\u001b[1;32m     51\u001b[0m \u001b[0;34m\u001b[0m\u001b[0m\n\u001b[1;32m     52\u001b[0m \u001b[0;34m\u001b[0m\u001b[0m\n",
            "\u001b[0;31mFileNotFoundError\u001b[0m: [Errno 2] No such file or directory: '/content/shirts/white_shirt95.jpg'"
          ]
        }
      ]
    },
    {
      "cell_type": "code",
      "metadata": {
        "id": "EPk2IFedtXoN"
      },
      "source": [
        "TRAINING_DIR = \"/content/shirt_pre/training\"\n",
        "\n",
        "train_datagen = ImageDataGenerator(rescale=1./255,\n",
        "      rotation_range=40,\n",
        "      width_shift_range=0.2,\n",
        "      height_shift_range=0.2,\n",
        "      shear_range=0.2,\n",
        "      zoom_range=0.2,\n",
        "      horizontal_flip=True,\n",
        "      fill_mode='nearest')\n",
        "train_generator = train_datagen.flow_from_directory(TRAINING_DIR,\n",
        "                                                    batch_size=100,\n",
        "                                                    class_mode='binary',\n",
        "                                                    target_size=(150, 150))\n",
        "\n",
        "VALIDATION_DIR = \"/content/shirt_pre/testing\"\n",
        "\n",
        "validation_datagen = ImageDataGenerator(rescale=1./255)\n",
        "validation_generator = validation_datagen.flow_from_directory(VALIDATION_DIR,\n",
        "                                                              batch_size=100,\n",
        "                                                              class_mode='binary',\n",
        "                                                              target_size=(150, 150))"
      ],
      "execution_count": null,
      "outputs": []
    },
    {
      "cell_type": "code",
      "metadata": {
        "colab": {
          "base_uri": "https://localhost:8080/"
        },
        "id": "AO7d3qg4tYIm",
        "outputId": "990672c1-a5e1-4bf8-8c87-541cfab8b04a"
      },
      "source": [
        "model = tf.keras.models.Sequential([\n",
        "    tf.keras.layers.Conv2D(100, (3,3), activation='relu', input_shape=(150, 150, 3)),\n",
        "    tf.keras.layers.MaxPooling2D(2,2),\n",
        "    \n",
        "    tf.keras.layers.Conv2D(100, (3,3), activation='relu'),\n",
        "    tf.keras.layers.MaxPooling2D(2,2),\n",
        "    \n",
        "    tf.keras.layers.Flatten(),\n",
        "    tf.keras.layers.Dropout(0.5),\n",
        "    tf.keras.layers.Dense(50, activation='relu'),\n",
        "    tf.keras.layers.Dense(2, activation='softmax')\n",
        "])\n",
        "print(model.summary())"
      ],
      "execution_count": null,
      "outputs": [
        {
          "output_type": "stream",
          "text": [
            "Model: \"sequential\"\n",
            "_________________________________________________________________\n",
            "Layer (type)                 Output Shape              Param #   \n",
            "=================================================================\n",
            "conv2d (Conv2D)              (None, 148, 148, 100)     2800      \n",
            "_________________________________________________________________\n",
            "max_pooling2d (MaxPooling2D) (None, 74, 74, 100)       0         \n",
            "_________________________________________________________________\n",
            "conv2d_1 (Conv2D)            (None, 72, 72, 100)       90100     \n",
            "_________________________________________________________________\n",
            "max_pooling2d_1 (MaxPooling2 (None, 36, 36, 100)       0         \n",
            "_________________________________________________________________\n",
            "flatten (Flatten)            (None, 129600)            0         \n",
            "_________________________________________________________________\n",
            "dropout (Dropout)            (None, 129600)            0         \n",
            "_________________________________________________________________\n",
            "dense (Dense)                (None, 50)                6480050   \n",
            "_________________________________________________________________\n",
            "dense_1 (Dense)              (None, 2)                 102       \n",
            "=================================================================\n",
            "Total params: 6,573,052\n",
            "Trainable params: 6,573,052\n",
            "Non-trainable params: 0\n",
            "_________________________________________________________________\n",
            "None\n"
          ],
          "name": "stdout"
        }
      ]
    },
    {
      "cell_type": "code",
      "metadata": {
        "colab": {
          "base_uri": "https://localhost:8080/"
        },
        "id": "riMwxYXGtnE6",
        "outputId": "51ade06f-8ecf-4240-ed20-972541a4f0e4"
      },
      "source": [
        "opt=tf.keras.optimizers.Adam(learning_rate=0.001)\n",
        "model.compile(optimizer=opt,\n",
        "              loss='sparse_categorical_crossentropy',\n",
        "              metrics=['acc'])\n",
        "\n",
        "\n",
        "history = model.fit(\n",
        "            train_generator,\n",
        "            validation_data=validation_generator,\n",
        "            epochs=20,\n",
        "            verbose=1)"
      ],
      "execution_count": null,
      "outputs": [
        {
          "output_type": "stream",
          "text": [
            "Epoch 1/20\n",
            "2/2 [==============================] - 35s 3s/step - loss: 1.4070 - acc: 0.5271 - val_loss: 6.7387 - val_acc: 0.4667\n",
            "Epoch 2/20\n",
            "2/2 [==============================] - 2s 400ms/step - loss: 5.0803 - acc: 0.4884 - val_loss: 0.8205 - val_acc: 0.4667\n",
            "Epoch 3/20\n",
            "2/2 [==============================] - 2s 1s/step - loss: 0.7313 - acc: 0.5349 - val_loss: 0.6876 - val_acc: 0.5333\n",
            "Epoch 4/20\n",
            "2/2 [==============================] - 2s 486ms/step - loss: 0.7099 - acc: 0.5116 - val_loss: 0.6998 - val_acc: 0.4000\n",
            "Epoch 5/20\n",
            "2/2 [==============================] - 2s 397ms/step - loss: 0.6893 - acc: 0.5504 - val_loss: 0.7463 - val_acc: 0.5333\n",
            "Epoch 6/20\n",
            "2/2 [==============================] - 2s 1s/step - loss: 0.7240 - acc: 0.5194 - val_loss: 0.7615 - val_acc: 0.4000\n",
            "Epoch 7/20\n",
            "2/2 [==============================] - 2s 1s/step - loss: 0.6963 - acc: 0.5271 - val_loss: 0.7476 - val_acc: 0.4667\n",
            "Epoch 8/20\n",
            "2/2 [==============================] - 2s 1s/step - loss: 0.6607 - acc: 0.5891 - val_loss: 0.7211 - val_acc: 0.4667\n",
            "Epoch 9/20\n",
            "2/2 [==============================] - 2s 1s/step - loss: 0.6644 - acc: 0.6047 - val_loss: 0.7140 - val_acc: 0.5333\n",
            "Epoch 10/20\n",
            "2/2 [==============================] - 2s 2s/step - loss: 0.6643 - acc: 0.6667 - val_loss: 0.7179 - val_acc: 0.4000\n",
            "Epoch 11/20\n",
            "2/2 [==============================] - 2s 415ms/step - loss: 0.6486 - acc: 0.7132 - val_loss: 0.7457 - val_acc: 0.4667\n",
            "Epoch 12/20\n",
            "2/2 [==============================] - 2s 485ms/step - loss: 0.5989 - acc: 0.6899 - val_loss: 0.7746 - val_acc: 0.5333\n",
            "Epoch 13/20\n",
            "2/2 [==============================] - 2s 451ms/step - loss: 0.6284 - acc: 0.6512 - val_loss: 0.7700 - val_acc: 0.4667\n",
            "Epoch 14/20\n",
            "2/2 [==============================] - 2s 2s/step - loss: 0.6114 - acc: 0.6667 - val_loss: 0.7436 - val_acc: 0.4667\n",
            "Epoch 15/20\n",
            "2/2 [==============================] - 2s 1s/step - loss: 0.6174 - acc: 0.6357 - val_loss: 0.7165 - val_acc: 0.4000\n",
            "Epoch 16/20\n",
            "2/2 [==============================] - 2s 2s/step - loss: 0.5937 - acc: 0.6589 - val_loss: 0.7196 - val_acc: 0.5333\n",
            "Epoch 17/20\n",
            "2/2 [==============================] - 2s 2s/step - loss: 0.5876 - acc: 0.6899 - val_loss: 0.7413 - val_acc: 0.5333\n",
            "Epoch 18/20\n",
            "2/2 [==============================] - 2s 1s/step - loss: 0.6014 - acc: 0.6589 - val_loss: 0.7377 - val_acc: 0.5333\n",
            "Epoch 19/20\n",
            "2/2 [==============================] - 2s 477ms/step - loss: 0.5420 - acc: 0.7674 - val_loss: 0.7583 - val_acc: 0.5333\n",
            "Epoch 20/20\n",
            "2/2 [==============================] - 2s 482ms/step - loss: 0.5827 - acc: 0.6899 - val_loss: 0.7202 - val_acc: 0.4667\n"
          ],
          "name": "stdout"
        }
      ]
    },
    {
      "cell_type": "code",
      "metadata": {
        "colab": {
          "base_uri": "https://localhost:8080/"
        },
        "id": "8fxvAdKXtqJF",
        "outputId": "66bcc42e-e206-41dd-c1a0-089799d96a55"
      },
      "source": [
        "model.evaluate(validation_generator)"
      ],
      "execution_count": null,
      "outputs": [
        {
          "output_type": "stream",
          "text": [
            "1/1 [==============================] - 0s 165ms/step - loss: 0.7202 - acc: 0.4667\n"
          ],
          "name": "stdout"
        },
        {
          "output_type": "execute_result",
          "data": {
            "text/plain": [
              "[0.7202234864234924, 0.46666666865348816]"
            ]
          },
          "metadata": {
            "tags": []
          },
          "execution_count": 10
        }
      ]
    },
    {
      "cell_type": "code",
      "metadata": {
        "id": "D-0CLbFEt-RY"
      },
      "source": [
        "from keras.preprocessing.image import load_img,img_to_array\n",
        "\n",
        "dic=train_generator.class_indices\n",
        "icd={k:v for v,k in dic.items()}\n",
        "def output(location):\n",
        "    img=load_img(location,target_size=(150,150,3))\n",
        "    img=img_to_array(img)\n",
        "    img=img/255\n",
        "    img=np.expand_dims(img,[0])\n",
        "    answer=model.predict_classes(img)\n",
        "    probability=round(np.max(model.predict_proba(img)*100),2)\n",
        "    print (icd[answer[0]], 'With probability',probability)"
      ],
      "execution_count": null,
      "outputs": []
    },
    {
      "cell_type": "markdown",
      "metadata": {
        "id": "XJ7BB9gHTubr"
      },
      "source": [
        ""
      ]
    },
    {
      "cell_type": "code",
      "metadata": {
        "colab": {
          "base_uri": "https://localhost:8080/"
        },
        "id": "HosyS1kuXhVc",
        "outputId": "7a4efd02-7156-4b30-e088-7d514f33bb3b"
      },
      "source": [
        "icd"
      ],
      "execution_count": null,
      "outputs": [
        {
          "output_type": "execute_result",
          "data": {
            "text/plain": [
              "{0: 'No Ship', 1: 'Ship'}"
            ]
          },
          "metadata": {
            "tags": []
          },
          "execution_count": 12
        }
      ]
    },
    {
      "cell_type": "code",
      "metadata": {
        "id": "Ur5FVzc_t_0l",
        "colab": {
          "base_uri": "https://localhost:8080/",
          "height": 167
        },
        "outputId": "f6588469-3719-410f-bbfb-18a4ddb53b79"
      },
      "source": [
        "img=\"/content/EnemyNavyVessel/testing/Ship/ship-distance.jpg\"\n",
        "s=load_img(img,target_size=(150,150,3))\n",
        "s"
      ],
      "execution_count": null,
      "outputs": [
        {
          "output_type": "execute_result",
          "data": {
            "image/png": "[encoded data removed]",
            "text/plain": [
              "<PIL.Image.Image image mode=RGB size=150x150 at 0x7FE5904A4A50>"
            ]
          },
          "metadata": {
            "tags": []
          },
          "execution_count": 13
        }
      ]
    },
    {
      "cell_type": "code",
      "metadata": {
        "id": "nHWrh6_IuBUk",
        "colab": {
          "base_uri": "https://localhost:8080/"
        },
        "outputId": "77debb04-9441-4456-ea3c-b422cb747684"
      },
      "source": [
        "output(img)"
      ],
      "execution_count": null,
      "outputs": [
        {
          "output_type": "stream",
          "text": [
            "/usr/local/lib/python3.7/dist-packages/tensorflow/python/keras/engine/sequential.py:455: UserWarning: `model.predict_classes()` is deprecated and will be removed after 2021-01-01. Please use instead:* `np.argmax(model.predict(x), axis=-1)`,   if your model does multi-class classification   (e.g. if it uses a `softmax` last-layer activation).* `(model.predict(x) > 0.5).astype(\"int32\")`,   if your model does binary classification   (e.g. if it uses a `sigmoid` last-layer activation).\n",
            "  warnings.warn('`model.predict_classes()` is deprecated and '\n"
          ],
          "name": "stderr"
        },
        {
          "output_type": "stream",
          "text": [
            "No Ship With probability 70.67\n"
          ],
          "name": "stdout"
        },
        {
          "output_type": "stream",
          "text": [
            "/usr/local/lib/python3.7/dist-packages/tensorflow/python/keras/engine/sequential.py:430: UserWarning: `model.predict_proba()` is deprecated and will be removed after 2021-01-01. Please use `model.predict()` instead.\n",
            "  warnings.warn('`model.predict_proba()` is deprecated and '\n"
          ],
          "name": "stderr"
        }
      ]
    },
    {
      "cell_type": "code",
      "metadata": {
        "id": "55hiQlXQYFTD"
      },
      "source": [
        "model.save('enemynavyvessel_model.h5')"
      ],
      "execution_count": null,
      "outputs": []
    },
    {
      "cell_type": "code",
      "metadata": {
        "colab": {
          "base_uri": "https://localhost:8080/"
        },
        "id": "BUR8inpsn-Gg",
        "outputId": "76a61fce-3fff-420c-9a79-0ed35a854806"
      },
      "source": [
        "# Convert the model.\n",
        "converter = tf.lite.TFLiteConverter.from_keras_model(model)\n",
        "tflite_model = converter.convert()\n",
        "\n",
        "# Save the model.\n",
        "with open('model.tflite', 'wb') as f:\n",
        "  f.write(tflite_model)"
      ],
      "execution_count": null,
      "outputs": [
        {
          "output_type": "stream",
          "text": [
            "INFO:tensorflow:Assets written to: /tmp/tmpx1xolj_0/assets\n"
          ],
          "name": "stdout"
        }
      ]
    },
    {
      "cell_type": "code",
      "metadata": {
        "id": "hNA_hxr7oKeV"
      },
      "source": [
        ""
      ],
      "execution_count": null,
      "outputs": []
    }
  ]
}